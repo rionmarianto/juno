{
 "cells": [
  {
   "cell_type": "code",
   "execution_count": 227,
   "metadata": {},
   "outputs": [
    {
     "name": "stdout",
     "output_type": "stream",
     "text": [
      "test\n"
     ]
    }
   ],
   "source": [
    "print('test')"
   ]
  },
  {
   "cell_type": "code",
   "execution_count": 228,
   "metadata": {},
   "outputs": [
    {
     "name": "stdout",
     "output_type": "stream",
     "text": [
      "10\n",
      "<class 'int'>\n",
      "<class 'float'>\n"
     ]
    }
   ],
   "source": [
    "print(10)\n",
    "print(type(10))\n",
    "print(type(10.0))"
   ]
  },
  {
   "cell_type": "code",
   "execution_count": 229,
   "metadata": {},
   "outputs": [
    {
     "name": "stdout",
     "output_type": "stream",
     "text": [
      "0.2\n"
     ]
    }
   ],
   "source": [
    "print(.2)"
   ]
  },
  {
   "cell_type": "code",
   "execution_count": 230,
   "metadata": {},
   "outputs": [
    {
     "name": "stdout",
     "output_type": "stream",
     "text": [
      "True\n",
      "False\n",
      "False\n",
      "False\n",
      "True\n"
     ]
    }
   ],
   "source": [
    "print(bool(10))\n",
    "print(bool(0))\n",
    "print(bool())\n",
    "print(bool(''))\n",
    "print(bool('d'))"
   ]
  },
  {
   "attachments": {},
   "cell_type": "markdown",
   "metadata": {},
   "source": [
    "# Variable"
   ]
  },
  {
   "cell_type": "code",
   "execution_count": 231,
   "metadata": {},
   "outputs": [],
   "source": [
    "x,y,z= 'udin','joko','jamal'"
   ]
  },
  {
   "cell_type": "code",
   "execution_count": 232,
   "metadata": {},
   "outputs": [
    {
     "name": "stdout",
     "output_type": "stream",
     "text": [
      "jamal\n"
     ]
    }
   ],
   "source": [
    "print(z)"
   ]
  },
  {
   "attachments": {},
   "cell_type": "markdown",
   "metadata": {},
   "source": [
    "# Casting"
   ]
  },
  {
   "cell_type": "code",
   "execution_count": 233,
   "metadata": {},
   "outputs": [
    {
     "name": "stdout",
     "output_type": "stream",
     "text": [
      "42\n"
     ]
    }
   ],
   "source": [
    "x= 4\n",
    "y= 2\n",
    "print(str(x)+str(y))"
   ]
  },
  {
   "cell_type": "code",
   "execution_count": 234,
   "metadata": {},
   "outputs": [
    {
     "name": "stdout",
     "output_type": "stream",
     "text": [
      "6\n"
     ]
    }
   ],
   "source": [
    "x= 4\n",
    "y= 2\n",
    "print((x)+(y))"
   ]
  },
  {
   "cell_type": "code",
   "execution_count": 235,
   "metadata": {},
   "outputs": [
    {
     "name": "stdout",
     "output_type": "stream",
     "text": [
      "6.0\n"
     ]
    }
   ],
   "source": [
    "print(float(x)+(y))"
   ]
  },
  {
   "cell_type": "code",
   "execution_count": 236,
   "metadata": {},
   "outputs": [
    {
     "name": "stdout",
     "output_type": "stream",
     "text": [
      "9\n"
     ]
    }
   ],
   "source": [
    "#pembulatan\n",
    "k= (9.1)\n",
    "print(round(k))"
   ]
  },
  {
   "cell_type": "code",
   "execution_count": 237,
   "metadata": {},
   "outputs": [
    {
     "name": "stdout",
     "output_type": "stream",
     "text": [
      "['bemo', 'mobil', 'motor', 'becak', 'pesawat', 'kereta']\n",
      "bemo\n",
      "['bemo', 'mobil', 'motor', 'becak']\n",
      "['becak', 'pesawat']\n",
      "kereta\n",
      "['becak', 'pesawat']\n",
      "6\n",
      "['mobil', 'pesawat']\n"
     ]
    }
   ],
   "source": [
    "kendaraan= ['bemo','mobil','motor','becak','pesawat','kereta']\n",
    "print(kendaraan)\n",
    "print(kendaraan[0]) #index itu dari 0\n",
    "print(kendaraan[0:4])\n",
    "print(kendaraan[3:5])\n",
    "print(kendaraan[-1])\n",
    "print(kendaraan[3:-1])\n",
    "print(len(kendaraan))\n",
    "print(kendaraan[1:6:3])"
   ]
  },
  {
   "cell_type": "code",
   "execution_count": 238,
   "metadata": {},
   "outputs": [
    {
     "name": "stdout",
     "output_type": "stream",
     "text": [
      "yes\n"
     ]
    }
   ],
   "source": [
    "if 'bemo' in kendaraan:\n",
    "    print('yes')"
   ]
  },
  {
   "cell_type": "code",
   "execution_count": 239,
   "metadata": {},
   "outputs": [
    {
     "name": "stdout",
     "output_type": "stream",
     "text": [
      "['bemo', 'gojek', 'grab', 'becak', 'pesawat', 'kereta']\n"
     ]
    }
   ],
   "source": [
    "kendaraan[1:3]=['gojek','grab']\n",
    "print(kendaraan)"
   ]
  },
  {
   "cell_type": "code",
   "execution_count": 240,
   "metadata": {},
   "outputs": [
    {
     "name": "stdout",
     "output_type": "stream",
     "text": [
      "['bemo', 'kapalaut', 'becak', 'pesawat', 'kereta']\n"
     ]
    }
   ],
   "source": [
    "kendaraan[1:3]=['kapalaut']\n",
    "print(kendaraan)"
   ]
  },
  {
   "cell_type": "code",
   "execution_count": 241,
   "metadata": {},
   "outputs": [
    {
     "name": "stdout",
     "output_type": "stream",
     "text": [
      "['kapalaut', 'kapalaut', 'becak', 'pesawat', 'kereta']\n"
     ]
    }
   ],
   "source": [
    "kendaraan[0:1]=['kapalaut']\n",
    "print(kendaraan)"
   ]
  },
  {
   "cell_type": "code",
   "execution_count": 242,
   "metadata": {},
   "outputs": [
    {
     "name": "stdout",
     "output_type": "stream",
     "text": [
      "['becak', 'kapalaut', 'kapalaut', 'kereta', 'pesawat']\n"
     ]
    }
   ],
   "source": [
    "kendaraan.sort()\n",
    "print(kendaraan)"
   ]
  },
  {
   "cell_type": "code",
   "execution_count": null,
   "metadata": {},
   "outputs": [
    {
     "ename": "TypeError",
     "evalue": "'builtin_function_or_method' object is not subscriptable",
     "output_type": "error",
     "traceback": [
      "\u001b[1;31m---------------------------------------------------------------------------\u001b[0m",
      "\u001b[1;31mTypeError\u001b[0m                                 Traceback (most recent call last)",
      "Cell \u001b[1;32mIn[252], line 3\u001b[0m\n\u001b[0;32m      1\u001b[0m \u001b[39m# insert\u001b[39;00m\n\u001b[0;32m      2\u001b[0m kendaraan\u001b[39m=\u001b[39m [\u001b[39m'\u001b[39m\u001b[39mbemo\u001b[39m\u001b[39m'\u001b[39m,\u001b[39m'\u001b[39m\u001b[39mmobil\u001b[39m\u001b[39m'\u001b[39m,\u001b[39m'\u001b[39m\u001b[39mmobil\u001b[39m\u001b[39m'\u001b[39m,\u001b[39m'\u001b[39m\u001b[39mbecak\u001b[39m\u001b[39m'\u001b[39m,\u001b[39m'\u001b[39m\u001b[39mmotor\u001b[39m\u001b[39m'\u001b[39m,\u001b[39m'\u001b[39m\u001b[39mkereta\u001b[39m\u001b[39m'\u001b[39m]\n\u001b[1;32m----> 3\u001b[0m kendaraan\u001b[39m.\u001b[39;49minsert[\u001b[39m1\u001b[39;49m]\n",
      "\u001b[1;31mTypeError\u001b[0m: 'builtin_function_or_method' object is not subscriptable"
     ]
    }
   ],
   "source": [
    "# insert\n",
    "kendaraan= ['bemo','mobil','mobil','becak','motor','kereta']\n",
    "kendaraan.insert(1,'kapal laut')\n",
    "print(kendaraan)"
   ]
  },
  {
   "attachments": {},
   "cell_type": "markdown",
   "metadata": {},
   "source": [
    "# SET"
   ]
  },
  {
   "cell_type": "code",
   "execution_count": null,
   "metadata": {},
   "outputs": [
    {
     "name": "stdout",
     "output_type": "stream",
     "text": [
      "{'bemo', 'mobil', 'kereta', 'becak', 'motor'}\n"
     ]
    }
   ],
   "source": [
    "kendaraan= {'bemo','mobil','mobil','becak','motor','kereta'}\n",
    "print(kendaraan)"
   ]
  },
  {
   "cell_type": "code",
   "execution_count": null,
   "metadata": {},
   "outputs": [
    {
     "ename": "SyntaxError",
     "evalue": "Missing parentheses in call to 'print'. Did you mean print(...)? (1285575013.py, line 1)",
     "output_type": "error",
     "traceback": [
      "\u001b[1;36m  Cell \u001b[1;32mIn[169], line 1\u001b[1;36m\u001b[0m\n\u001b[1;33m    print{kendaraan[1]}\u001b[0m\n\u001b[1;37m    ^\u001b[0m\n\u001b[1;31mSyntaxError\u001b[0m\u001b[1;31m:\u001b[0m Missing parentheses in call to 'print'. Did you mean print(...)?\n"
     ]
    }
   ],
   "source": [
    "print{kendaraan[1]}"
   ]
  },
  {
   "attachments": {},
   "cell_type": "markdown",
   "metadata": {},
   "source": [
    "# Dictionary"
   ]
  },
  {
   "cell_type": "code",
   "execution_count": null,
   "metadata": {},
   "outputs": [
    {
     "name": "stdout",
     "output_type": "stream",
     "text": [
      "{'nama': 'Udin', 'alamat': 'jombang', 'ktp': '41'}\n"
     ]
    }
   ],
   "source": [
    "dataKaaryawan= {\n",
    "    'nama' : 'Udin',\n",
    "    'alamat' : 'jombang',\n",
    "    'ktp' : '41'\n",
    "}\n",
    "print(dataKaaryawan)"
   ]
  },
  {
   "cell_type": "code",
   "execution_count": null,
   "metadata": {},
   "outputs": [
    {
     "data": {
      "text/plain": [
       "'Udin'"
      ]
     },
     "execution_count": 189,
     "metadata": {},
     "output_type": "execute_result"
    }
   ],
   "source": [
    "dataKaaryawan['nama']"
   ]
  },
  {
   "cell_type": "code",
   "execution_count": null,
   "metadata": {},
   "outputs": [
    {
     "data": {
      "text/plain": [
       "'Udin'"
      ]
     },
     "execution_count": 194,
     "metadata": {},
     "output_type": "execute_result"
    }
   ],
   "source": [
    "dataKaaryawan.get('nama')"
   ]
  },
  {
   "cell_type": "code",
   "execution_count": null,
   "metadata": {},
   "outputs": [
    {
     "data": {
      "text/plain": [
       "dict_keys(['nama', 'alamat', 'ktp'])"
      ]
     },
     "execution_count": 197,
     "metadata": {},
     "output_type": "execute_result"
    }
   ],
   "source": [
    "dataKaaryawan.keys()"
   ]
  },
  {
   "cell_type": "code",
   "execution_count": 250,
   "metadata": {},
   "outputs": [],
   "source": [
    "dataKaaryawan= { \n",
    "    1:\n",
    "        {\n",
    "        'nama' : 'udin',\n",
    "        'alamat' : 'jombang',\n",
    "        },\n",
    "    2:\n",
    "        {\n",
    "        'nama' : 'uduin',\n",
    "        'alamat' : 'jompbang',\n",
    "        }\n",
    "}\n",
    "    "
   ]
  },
  {
   "cell_type": "code",
   "execution_count": 251,
   "metadata": {},
   "outputs": [
    {
     "name": "stdout",
     "output_type": "stream",
     "text": [
      "{'nama': 'uduin', 'alamat': 'jompbang'}\n",
      "udin\n"
     ]
    }
   ],
   "source": [
    "print(dataKaaryawan[2])\n",
    "print(dataKaaryawan[1]['nama'])"
   ]
  },
  {
   "attachments": {},
   "cell_type": "markdown",
   "metadata": {},
   "source": [
    "# Format String"
   ]
  },
  {
   "cell_type": "code",
   "execution_count": 246,
   "metadata": {},
   "outputs": [
    {
     "name": "stdout",
     "output_type": "stream",
     "text": [
      "hallo, nama saya 21, umur saya ahmad\n"
     ]
    }
   ],
   "source": [
    "umur= 21\n",
    "nama= 'ahmad'\n",
    "kalimat= 'hallo, nama saya {}, umur saya {}'\n",
    "print(kalimat.format(umur,nama))"
   ]
  },
  {
   "cell_type": "code",
   "execution_count": 247,
   "metadata": {},
   "outputs": [
    {
     "name": "stdout",
     "output_type": "stream",
     "text": [
      "hallo, nama saya ahmad, umur saya  21.00\n"
     ]
    }
   ],
   "source": [
    "umur= 21\n",
    "nama= 'ahmad'\n",
    "kalimat= 'hallo, nama saya {}, umur saya {}'\n",
    "print(f'hallo, nama saya {nama}, umur saya {umur: .2f}')"
   ]
  }
 ],
 "metadata": {
  "kernelspec": {
   "display_name": "Python 3",
   "language": "python",
   "name": "python3"
  },
  "language_info": {
   "codemirror_mode": {
    "name": "ipython",
    "version": 3
   },
   "file_extension": ".py",
   "mimetype": "text/x-python",
   "name": "python",
   "nbconvert_exporter": "python",
   "pygments_lexer": "ipython3",
   "version": "3.11.1 (tags/v3.11.1:a7a450f, Dec  6 2022, 19:58:39) [MSC v.1934 64 bit (AMD64)]"
  },
  "orig_nbformat": 4,
  "vscode": {
   "interpreter": {
    "hash": "0457ff9518d162b024a597d4f5523b538016db233ed7f16deedf5bdaff014eea"
   }
  }
 },
 "nbformat": 4,
 "nbformat_minor": 2
}
